{
 "metadata": {
  "name": "",
  "signature": "sha256:da685660eb81196424fbdedf0a2579d051ee2cd14c8846a75adabae9e1ae40d5"
 },
 "nbformat": 3,
 "nbformat_minor": 0,
 "worksheets": [
  {
   "cells": [
    {
     "cell_type": "code",
     "collapsed": false,
     "input": [
      "import pandas as pd\n",
      "import numpy as np\n",
      "import matplotlib.pyplot as plt\n",
      "from astropy.io import fits\n",
      "from pandas.io.parsers import read_table, read_csv"
     ],
     "language": "python",
     "metadata": {},
     "outputs": [],
     "prompt_number": 22
    },
    {
     "cell_type": "code",
     "collapsed": false,
     "input": [
      "file_info = pd.read_csv('ABPIC-B/flt_file_info.csv')"
     ],
     "language": "python",
     "metadata": {},
     "outputs": [],
     "prompt_number": 2
    },
    {
     "cell_type": "code",
     "collapsed": false,
     "input": [],
     "language": "python",
     "metadata": {},
     "outputs": [
      {
       "html": [
        "<div style=\"max-height:1000px;max-width:1500px;overflow:auto;\">\n",
        "<table border=\"1\" class=\"dataframe\">\n",
        "  <thead>\n",
        "    <tr style=\"text-align: right;\">\n",
        "      <th></th>\n",
        "      <th>file name</th>\n",
        "      <th>orbit</th>\n",
        "      <th>exposure</th>\n",
        "      <th>filter</th>\n",
        "      <th>date-obs</th>\n",
        "      <th>time-obs</th>\n",
        "      <th>angle</th>\n",
        "    </tr>\n",
        "  </thead>\n",
        "  <tbody>\n",
        "    <tr>\n",
        "      <th>0</th>\n",
        "      <td> icdg07p3q_flt.fits</td>\n",
        "      <td> 7</td>\n",
        "      <td> 1</td>\n",
        "      <td> F125W</td>\n",
        "      <td> 2013-10-16</td>\n",
        "      <td> 15:53:47</td>\n",
        "      <td> 101.0005</td>\n",
        "    </tr>\n",
        "    <tr>\n",
        "      <th>1</th>\n",
        "      <td> icdg07p4q_flt.fits</td>\n",
        "      <td> 7</td>\n",
        "      <td> 1</td>\n",
        "      <td> F125W</td>\n",
        "      <td> 2013-10-16</td>\n",
        "      <td> 15:54:35</td>\n",
        "      <td> 101.0005</td>\n",
        "    </tr>\n",
        "    <tr>\n",
        "      <th>2</th>\n",
        "      <td> icdg07p5q_flt.fits</td>\n",
        "      <td> 7</td>\n",
        "      <td> 1</td>\n",
        "      <td> F125W</td>\n",
        "      <td> 2013-10-16</td>\n",
        "      <td> 15:55:23</td>\n",
        "      <td> 101.0005</td>\n",
        "    </tr>\n",
        "    <tr>\n",
        "      <th>3</th>\n",
        "      <td> icdg07p6q_flt.fits</td>\n",
        "      <td> 7</td>\n",
        "      <td> 1</td>\n",
        "      <td> F125W</td>\n",
        "      <td> 2013-10-16</td>\n",
        "      <td> 15:56:11</td>\n",
        "      <td> 101.0005</td>\n",
        "    </tr>\n",
        "  </tbody>\n",
        "</table>\n",
        "</div>"
       ],
       "metadata": {},
       "output_type": "pyout",
       "prompt_number": 3,
       "text": [
        "            file name  orbit  exposure filter    date-obs  time-obs     angle\n",
        "0  icdg07p3q_flt.fits      7         1  F125W  2013-10-16  15:53:47  101.0005\n",
        "1  icdg07p4q_flt.fits      7         1  F125W  2013-10-16  15:54:35  101.0005\n",
        "2  icdg07p5q_flt.fits      7         1  F125W  2013-10-16  15:55:23  101.0005\n",
        "3  icdg07p6q_flt.fits      7         1  F125W  2013-10-16  15:56:11  101.0005"
       ]
      }
     ],
     "prompt_number": 3
    },
    {
     "cell_type": "code",
     "collapsed": false,
     "input": [
      "%run CR_removal.py"
     ],
     "language": "python",
     "metadata": {},
     "outputs": [],
     "prompt_number": 34
    },
    {
     "cell_type": "code",
     "collapsed": false,
     "input": [
      "from ds9 import ds9\n",
      "d = ds9('7f000101:52105')"
     ],
     "language": "python",
     "metadata": {},
     "outputs": [
      {
       "ename": "ValueError",
       "evalue": "no active ds9 running for target: 7f000101:52105",
       "output_type": "pyerr",
       "traceback": [
        "\u001b[1;31m---------------------------------------------------------------------------\u001b[0m\n\u001b[1;31mValueError\u001b[0m                                Traceback (most recent call last)",
        "\u001b[1;32m<ipython-input-30-61c1f2675729>\u001b[0m in \u001b[0;36m<module>\u001b[1;34m()\u001b[0m\n\u001b[0;32m      1\u001b[0m \u001b[1;32mfrom\u001b[0m \u001b[0mds9\u001b[0m \u001b[1;32mimport\u001b[0m \u001b[0mds9\u001b[0m\u001b[1;33m\u001b[0m\u001b[0m\n\u001b[1;32m----> 2\u001b[1;33m \u001b[0md\u001b[0m \u001b[1;33m=\u001b[0m \u001b[0mds9\u001b[0m\u001b[1;33m(\u001b[0m\u001b[1;34m'7f000101:52105'\u001b[0m\u001b[1;33m)\u001b[0m\u001b[1;33m\u001b[0m\u001b[0m\n\u001b[0m",
        "\u001b[1;32m/usr/local/lib/python2.7/dist-packages/ds9.pyc\u001b[0m in \u001b[0;36m__init__\u001b[1;34m(self, target, start, wait, verify)\u001b[0m\n\u001b[0;32m    287\u001b[0m                 \u001b[0mtime\u001b[0m\u001b[1;33m.\u001b[0m\u001b[0msleep\u001b[0m\u001b[1;33m(\u001b[0m\u001b[1;36m1\u001b[0m\u001b[1;33m)\u001b[0m\u001b[1;33m\u001b[0m\u001b[0m\n\u001b[0;32m    288\u001b[0m         \u001b[1;32mif\u001b[0m \u001b[1;32mnot\u001b[0m \u001b[0mtlist\u001b[0m\u001b[1;33m:\u001b[0m\u001b[1;33m\u001b[0m\u001b[0m\n\u001b[1;32m--> 289\u001b[1;33m             \u001b[1;32mraise\u001b[0m \u001b[0mValueError\u001b[0m\u001b[1;33m,\u001b[0m \u001b[1;34m'no active ds9 running for target: %s'\u001b[0m \u001b[1;33m%\u001b[0m \u001b[0mtarget\u001b[0m\u001b[1;33m\u001b[0m\u001b[0m\n\u001b[0m\u001b[0;32m    290\u001b[0m         \u001b[1;32melif\u001b[0m \u001b[0mlen\u001b[0m\u001b[1;33m(\u001b[0m\u001b[0mtlist\u001b[0m\u001b[1;33m)\u001b[0m \u001b[1;33m>\u001b[0m \u001b[1;36m1\u001b[0m\u001b[1;33m:\u001b[0m\u001b[1;33m\u001b[0m\u001b[0m\n\u001b[0;32m    291\u001b[0m             \u001b[0ma\u001b[0m \u001b[1;33m=\u001b[0m \u001b[0mtlist\u001b[0m\u001b[1;33m[\u001b[0m\u001b[1;36m0\u001b[0m\u001b[1;33m]\u001b[0m\u001b[1;33m.\u001b[0m\u001b[0msplit\u001b[0m\u001b[1;33m(\u001b[0m\u001b[1;33m)\u001b[0m\u001b[1;33m\u001b[0m\u001b[0m\n",
        "\u001b[1;31mValueError\u001b[0m: no active ds9 running for target: 7f000101:52105"
       ]
      }
     ],
     "prompt_number": 30
    },
    {
     "cell_type": "code",
     "collapsed": false,
     "input": [],
     "language": "python",
     "metadata": {},
     "outputs": [
      {
       "metadata": {},
       "output_type": "pyout",
       "prompt_number": 18,
       "text": [
        "<ds9.ds9 at 0x7f31b5f0ced0>"
       ]
      }
     ],
     "prompt_number": 18
    },
    {
     "cell_type": "code",
     "collapsed": false,
     "input": [
      "fn = 'ABPIC-B/CR_removed/orbit_07_dither_01_F125W.fits'\n",
      "d.set('frame delete all')\n",
      "d.set('multiframe {0}'.format(fn))\n",
      "\n",
      "\n",
      "fits_file = fits.open(fn)\n",
      "RA = fits_file['primary'].header['ra_targ']\n",
      "Dec = fits_file['primary'].header['dec_targ']\n",
      "print RA, Dec\n",
      "fits_file.close()\n",
      "d.set('frame 1')\n",
      "d.set('pan to {0} {1} wcs fk5'.format(RA, Dec))\n",
      "d.set('zoom 2')\n",
      "d.set('scale histequ')\n",
      "d.set('mode 99.5')\n",
      "for frame_no in [2, 3, 4, 5]:\n",
      "    d.set('frame {0}'.format(frame_no))\n",
      "    d.set('pan to {0} {1} wcs fk5'.format(RA, Dec))\n",
      "    d.set('zoom 2')\n",
      "    d.set('scale histequ')\n",
      "    \n",
      "d.set('scale open')"
     ],
     "language": "python",
     "metadata": {},
     "outputs": [
      {
       "output_type": "stream",
       "stream": "stdout",
       "text": [
        "94.8040608333 -58.052825\n"
       ]
      },
      {
       "metadata": {},
       "output_type": "pyout",
       "prompt_number": 29,
       "text": [
        "1"
       ]
      }
     ],
     "prompt_number": 29
    },
    {
     "cell_type": "code",
     "collapsed": false,
     "input": [],
     "language": "python",
     "metadata": {},
     "outputs": []
    }
   ],
   "metadata": {}
  }
 ]
}