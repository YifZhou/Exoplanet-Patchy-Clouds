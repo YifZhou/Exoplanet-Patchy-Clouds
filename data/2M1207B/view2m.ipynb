{
 "metadata": {
  "name": "",
  "signature": "sha256:0afe4fc5683a06a3a10eeb2c409bfe58f757954f84fea9a3f91026a345f05acf"
 },
 "nbformat": 3,
 "nbformat_minor": 0,
 "worksheets": [
  {
   "cells": [
    {
     "cell_type": "code",
     "collapsed": false,
     "input": [
      "import numpy as np\n",
      "import matplotlib.pyplot as plt\n",
      "from astropy.io import fits\n",
      "from mpl_toolkits.mplot3d import Axes3D"
     ],
     "language": "python",
     "metadata": {},
     "outputs": [],
     "prompt_number": 13
    },
    {
     "cell_type": "code",
     "collapsed": false,
     "input": [
      "fn = 'icdg02akq_flt.fits'\n",
      "f = fits.open(fn)\n",
      "f.info()"
     ],
     "language": "python",
     "metadata": {
      "run_control": {
       "breakpoint": false
      }
     },
     "outputs": [
      {
       "output_type": "stream",
       "stream": "stdout",
       "text": [
        "Filename: icdg02akq_flt.fits\n",
        "No.    Name         Type      Cards   Dimensions   Format\n",
        "0    PRIMARY     PrimaryHDU     247   ()              \n",
        "1    SCI         ImageHDU       140   (256, 256)   float32   \n",
        "2    ERR         ImageHDU        52   (256, 256)   float32   \n",
        "3    DQ          ImageHDU        44   (256, 256)   int16   \n",
        "4    SAMP        ImageHDU        38   (256, 256)   int16   \n",
        "5    TIME        ImageHDU        38   (256, 256)   float32   \n",
        "6    WCSCORR     BinTableHDU     59   7R x 24C     [40A, I, A, 24A, 24A, 24A, 24A, D, D, D, D, D, D, D, D, 24A, 24A, D, D, D, D, J, 40A, 128A]   \n"
       ]
      }
     ],
     "prompt_number": 2
    },
    {
     "cell_type": "code",
     "collapsed": false,
     "input": [
      "im = f['sci'].data\n",
      "h1 = f['primary'].header\n",
      "h2 = f['sci'].header"
     ],
     "language": "python",
     "metadata": {
      "run_control": {
       "breakpoint": false
      }
     },
     "outputs": [],
     "prompt_number": 4
    },
    {
     "cell_type": "code",
     "collapsed": false,
     "input": [
      "%matplotlib osx\n",
      "plt.imshow(np.arcsinh(im), origin = 'lower', cmap = 'hot')"
     ],
     "language": "python",
     "metadata": {
      "run_control": {
       "breakpoint": false
      }
     },
     "outputs": [
      {
       "metadata": {},
       "output_type": "pyout",
       "prompt_number": 12,
       "text": [
        "<matplotlib.image.AxesImage at 0x10c1d9b10>"
       ]
      }
     ],
     "prompt_number": 12
    },
    {
     "cell_type": "code",
     "collapsed": false,
     "input": [
      "xc = 158\n",
      "yc = 141\n",
      "xid = np.int32(np.arange(xc - 10, xc + 10))\n",
      "yid = np.int32(np.arange(yc - 10, yc + 10))\n",
      "fig = plt.figure()\n",
      "ax = fig.add_subplot(111, projection = '3d')\n",
      "xx, yy = np.meshgrid(range(len(xid)), range(len(yid)))\n",
      "ax.plot_surface(yy, xx, im[xc-10:xc+10, yc-10:yc+10], rstride = 1, cstride = 1, linewidth = 0, shade = False, cmap = 'hot')"
     ],
     "language": "python",
     "metadata": {
      "run_control": {
       "breakpoint": false
      }
     },
     "outputs": [
      {
       "metadata": {},
       "output_type": "pyout",
       "prompt_number": 23,
       "text": [
        "<mpl_toolkits.mplot3d.art3d.Poly3DCollection at 0x10fce0950>"
       ]
      }
     ],
     "prompt_number": 23
    },
    {
     "cell_type": "code",
     "collapsed": false,
     "input": [],
     "language": "python",
     "metadata": {
      "run_control": {
       "breakpoint": false
      }
     },
     "outputs": []
    }
   ],
   "metadata": {}
  }
 ]
}