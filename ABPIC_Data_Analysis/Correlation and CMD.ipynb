{
 "metadata": {
  "name": "",
  "signature": "sha256:6f50bb85dda1fa9c349ac6490e4fcb3538ff3739210ae4d9cccfc28403d09891"
 },
 "nbformat": 3,
 "nbformat_minor": 0,
 "worksheets": [
  {
   "cells": [
    {
     "cell_type": "code",
     "collapsed": false,
     "input": [
      "import numpy as np\n",
      "import matplotlib.pyplot as plt\n",
      "import pandas as pd\n",
      "from scipy.optimize import leastsq, curve_fit\n",
      "%matplotlib qt4"
     ],
     "language": "python",
     "outputs": [],
     "prompt_number": 1
    },
    {
     "cell_type": "markdown",
     "source": [
      "## correlation"
     ]
    },
    {
     "cell_type": "code",
     "collapsed": false,
     "input": [
      "%run Corr_2color.py"
     ],
     "language": "python",
     "outputs": [
      {
       "output_type": "stream",
       "stream": "stdout",
       "text": [
        "[  7.67396171e-01   1.94340160e-17] [[  6.14565702e-03  -1.12939596e-18]\n",
        " [ -1.12939596e-18   2.07559041e-34]]\n"
       ]
      }
     ],
     "prompt_number": 2
    },
    {
     "cell_type": "code",
     "collapsed": false,
     "input": [
      "MagTable = pd.read_csv()"
     ],
     "language": "python",
     "outputs": []
    }
   ]
  }
 ]
}