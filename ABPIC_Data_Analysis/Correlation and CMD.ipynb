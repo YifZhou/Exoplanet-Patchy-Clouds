{
 "metadata": {
  "name": "",
  "signature": "sha256:3ac67702ba1665cee32f420cbba9d43b392bfe6b205de2d0f6cc70bde26e8c23"
 },
 "nbformat": 3,
 "nbformat_minor": 0,
 "worksheets": [
  {
   "cells": [
    {
     "cell_type": "code",
     "collapsed": false,
     "input": [
      "import numpy as np\n",
      "import matplotlib.pyplot as plt\n",
      "import pandas as pd\n",
      "from scipy.optimize import leastsq, curve_fit\n",
      "%matplotlib qt4"
     ],
     "language": "python",
     "metadata": {},
     "outputs": [],
     "prompt_number": 1
    },
    {
     "cell_type": "markdown",
     "metadata": {},
     "source": [
      "## correlation"
     ]
    },
    {
     "cell_type": "code",
     "collapsed": false,
     "input": [
      "%run Corr_2color.py"
     ],
     "language": "python",
     "metadata": {},
     "outputs": [
      {
       "output_type": "stream",
       "stream": "stdout",
       "text": [
        "[  7.67396171e-01   1.94340160e-17] [[  6.14565702e-03  -1.12939596e-18]\n",
        " [ -1.12939596e-18   2.07559041e-34]]\n"
       ]
      }
     ],
     "prompt_number": 2
    },
    {
     "cell_type": "code",
     "collapsed": false,
     "input": [
      "MagTable = pd.read_csv('Dupuy2012_LT_Dwars_PhotTable.csv')\n",
      "MagTable.info()"
     ],
     "language": "python",
     "metadata": {},
     "outputs": [
      {
       "output_type": "stream",
       "stream": "stdout",
       "text": [
        "<class 'pandas.core.frame.DataFrame'>\n",
        "Int64Index: 411 entries, 0 to 410\n",
        "Data columns (total 36 columns):\n",
        "Object             411 non-null object\n",
        "    Opt SpT        411 non-null object\n",
        "    NIR SpT        411 non-null object\n",
        " SpT Refs          411 non-null object\n",
        "  flag             411 non-null object\n",
        "RA (deg)           411 non-null object\n",
        "Dec (deg)          411 non-null float64\n",
        "Epoch (JD)         411 non-null float64\n",
        "plx                411 non-null float64\n",
        "eplx               411 non-null float64\n",
        " PlxRef            411 non-null object\n",
        "Ymag               411 non-null object\n",
        "eYmag              411 non-null object\n",
        "Jmag               411 non-null object\n",
        "eJmag              411 non-null object\n",
        "Hmag               411 non-null object\n",
        "eHmag              411 non-null object\n",
        "Kmag               411 non-null object\n",
        "eKmag              411 non-null object\n",
        "Lmag               411 non-null object\n",
        "eLmag              411 non-null object\n",
        "Mmag               411 non-null object\n",
        "eMmag              411 non-null object\n",
        "J2mag              411 non-null object\n",
        "eJ2mag             411 non-null object\n",
        "H2mag              411 non-null object\n",
        " eH2mag            411 non-null object\n",
        " K2mag             411 non-null object\n",
        "eK2mag             411 non-null object\n",
        " MKO+2MA           411 non-null object\n",
        "SS Refs            411 non-null object\n",
        "      sysID bin    411 non-null int64\n",
        " compsep(\")  HS    411 non-null object\n",
        "  HST/AO           411 non-null object\n",
        "HST AO Refs        411 non-null object\n",
        "Unnamed: 35        53 non-null object\n",
        "dtypes: float64(4), int64(1), object(31)"
       ]
      }
     ],
     "prompt_number": 2
    },
    {
     "cell_type": "code",
     "collapsed": false,
     "input": [
      "%run plotCMD.py"
     ],
     "language": "python",
     "metadata": {
      "run_control": {
       "breakpoint": false
      }
     },
     "outputs": [
      {
       "output_type": "stream",
       "stream": "stdout",
       "text": [
        "[ 1.00154674  0.99458685  0.99842586  1.00015574  0.99872927  1.00062308\n",
        "  1.0007809   1.00069771  0.98530618  0.99420393  0.98085669  0.98937274\n",
        "  1.0124998   1.00109776  0.99697859  1.00224653  1.00873664  1.00485113\n",
        "  1.0001117   1.00222573  1.00434342  1.00168866  1.00030133  1.00915137\n",
        "  1.00152962  1.00854946  1.00138648  1.00150515  1.00296588  1.01130209\n",
        "  0.99726119  0.99839161  0.99872437  0.99809922  0.99861671  0.99214985]\n"
       ]
      }
     ],
     "prompt_number": 38
    },
    {
     "cell_type": "code",
     "collapsed": false,
     "input": [],
     "language": "python",
     "metadata": {
      "run_control": {
       "breakpoint": false
      }
     },
     "outputs": []
    }
   ],
   "metadata": {}
  }
 ]
}