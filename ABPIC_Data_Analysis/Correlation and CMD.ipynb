{
 "metadata": {
  "name": "",
  "signature": "sha256:0cd14acc66ca5fb77100e78b6868a01d6d4c83186691150b13566b12a1bf3cb7"
 },
 "nbformat": 3,
 "nbformat_minor": 0,
 "worksheets": [
  {
   "cells": [
    {
     "cell_type": "code",
     "collapsed": false,
     "input": [
      "import numpy as np\n",
      "import matplotlib.pyplot as plt\n",
      "import pandas as pd\n",
      "from scipy.optimize import leastsq, curve_fit\n",
      "%matplotlib inline"
     ],
     "language": "python",
     "metadata": {},
     "outputs": [],
     "prompt_number": 1
    },
    {
     "cell_type": "markdown",
     "metadata": {},
     "source": [
      "## correlation"
     ]
    },
    {
     "cell_type": "code",
     "collapsed": false,
     "input": [
      "%run Corr_2color.py"
     ],
     "language": "python",
     "metadata": {},
     "outputs": [
      {
       "output_type": "stream",
       "stream": "stdout",
       "text": [
        "[  7.67396171e-01   1.94340160e-17] [[  6.14565702e-03  -1.12939596e-18]\n",
        " [ -1.12939596e-18   2.07559041e-34]]\n"
       ]
      }
     ],
     "prompt_number": 8
    },
    {
     "cell_type": "code",
     "collapsed": false,
     "input": [
      "magTable = pd.read_csv('MagTable.csv')\n",
      "magTable[magTable['target'] == 'AB_Pic~b']"
     ],
     "language": "python",
     "metadata": {},
     "outputs": [
      {
       "html": [
        "<div style=\"max-height:1000px;max-width:1500px;overflow:auto;\">\n",
        "<table border=\"1\" class=\"dataframe\">\n",
        "  <thead>\n",
        "    <tr style=\"text-align: right;\">\n",
        "      <th></th>\n",
        "      <th>target</th>\n",
        "      <th>Jmag</th>\n",
        "      <th>ejmag</th>\n",
        "      <th>Hmag</th>\n",
        "      <th>eHmag</th>\n",
        "      <th>J2mag</th>\n",
        "      <th>eJ2mag</th>\n",
        "      <th>H2mag</th>\n",
        "      <th>eH2mag</th>\n",
        "    </tr>\n",
        "  </thead>\n",
        "  <tbody>\n",
        "    <tr>\n",
        "      <th>92</th>\n",
        "      <td> AB_Pic~b</td>\n",
        "      <td> 16.088</td>\n",
        "      <td>  0.100 1</td>\n",
        "      <td> 14.739</td>\n",
        "      <td>  0.100 1</td>\n",
        "      <td> 16.18</td>\n",
        "      <td>   0.100 0</td>\n",
        "      <td> 14.69</td>\n",
        "      <td>  0.100 0</td>\n",
        "    </tr>\n",
        "  </tbody>\n",
        "</table>\n",
        "</div>"
       ],
       "metadata": {},
       "output_type": "pyout",
       "prompt_number": 34,
       "text": [
        "      target    Jmag     ejmag    Hmag     eHmag  J2mag     eJ2mag  H2mag  \\\n",
        "92  AB_Pic~b  16.088   0.100 1  14.739   0.100 1  16.18    0.100 0  14.69   \n",
        "\n",
        "      eH2mag  \n",
        "92   0.100 0  "
       ]
      }
     ],
     "prompt_number": 34
    },
    {
     "cell_type": "code",
     "collapsed": false,
     "input": [
      "%matplotlib qt4\n",
      "magTable[['J2mag', 'H2mag']] = magTable[['J2mag', 'H2mag']].astype(float)\n",
      "J = 16.18\n",
      "H = 14.69\n",
      "def DeltaMag(flux, f0):\n",
      "    return -2.5 * np.log10(flux/f0)\n",
      "JList = J + DeltaMag(flux125corr, flux125corr.mean())\n",
      "HList = H + DeltaMag(flux160corr, flux160corr.mean())\n",
      "fig = plt.figure(figsize = (6, 8))\n",
      "ax = fig.add_subplot(111)\n",
      "ax.plot(JList - HList, JList, '+', mew = 1.0)\n",
      "ax.plot(magTable['J2mag'] - magTable['H2mag'], magTable['J2mag'], '.', mew = 0.8, color = '0.8', zorder = 0)\n",
      "ax.invert_yaxis()\n",
      "ax.set_ylim([16.5, 15.5])\n",
      "ax.set_xlabel('Color J-H [mag]')\n",
      "ax.set_ylabel(r'Absolute Brightness M$_{\\rm J}$ [mag]')\n",
      "fig.tight_layout()\n",
      "fig.savefig('CMD.pdf')"
     ],
     "language": "python",
     "metadata": {},
     "outputs": [],
     "prompt_number": 56
    },
    {
     "cell_type": "code",
     "collapsed": false,
     "input": [],
     "language": "python",
     "metadata": {},
     "outputs": []
    }
   ],
   "metadata": {}
  }
 ]
}