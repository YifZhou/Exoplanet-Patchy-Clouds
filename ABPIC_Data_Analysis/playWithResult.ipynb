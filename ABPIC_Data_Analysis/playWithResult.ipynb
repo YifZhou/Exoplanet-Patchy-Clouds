{
 "metadata": {
  "name": "",
  "signature": "sha256:3fad9c719d8f8abba6e772785fe2a406ccec2b823674f7468e0ea1a72abec6f6"
 },
 "nbformat": 3,
 "nbformat_minor": 0,
 "worksheets": [
  {
   "cells": [
    {
     "cell_type": "code",
     "collapsed": false,
     "input": [
      "import numpy as np\n",
      "import matplotlib.pyplot as plt\n",
      "import pandas as pd\n",
      "%matplotlib"
     ],
     "language": "python",
     "metadata": {},
     "outputs": [
      {
       "output_type": "stream",
       "stream": "stdout",
       "text": [
        "Using matplotlib backend: Qt4Agg\n"
       ]
      }
     ],
     "prompt_number": 2
    },
    {
     "cell_type": "code",
     "collapsed": false,
     "input": [
      "DF = pd.read_csv('2015_Jan_07_result.csv', parse_dates = {'datetime':['OBS_DATE', 'OBS_TIME']}, index_col = 'datetime')\n"
     ],
     "language": "python",
     "metadata": {},
     "outputs": [
      {
       "metadata": {},
       "output_type": "pyout",
       "prompt_number": 7,
       "text": [
        "<matplotlib.axes._subplots.AxesSubplot at 0x7fe07142c310>"
       ]
      }
     ],
     "prompt_number": 7
    },
    {
     "cell_type": "code",
     "collapsed": false,
     "input": [
      "DF[DF['FILTER'] == 'F125W']['FLUX'].plot()\n",
      "DF[DF['FILTER'] == 'F160W']['FLUX'].plot()"
     ],
     "language": "python",
     "metadata": {},
     "outputs": [
      {
       "metadata": {},
       "output_type": "pyout",
       "prompt_number": 75,
       "text": [
        "<matplotlib.axes._subplots.AxesSubplot at 0x7fe066e6c090>"
       ]
      }
     ],
     "prompt_number": 75
    },
    {
     "cell_type": "code",
     "collapsed": false,
     "input": [
      "print DF[(DF['FLUX'] > 8300) & (DF['FILTER'] == 'F125W')]['FILENAME']\n",
      "print DF[(DF['FLUX'] < 8050) & (DF['FILTER'] == 'F125W')]['FILENAME']"
     ],
     "language": "python",
     "metadata": {},
     "outputs": [
      {
       "output_type": "stream",
       "stream": "stdout",
       "text": [
        "datetime\n",
        "2013-10-16 21:13:49    icdg10vcq_flt.fits\n",
        "2013-10-16 21:19:10    icdg10vkq_flt.fits\n",
        "Name: FILENAME, dtype: object\n",
        "datetime\n",
        "2013-10-16 16:00:32    icdg07pcq_flt.fits\n",
        "2013-10-16 16:07:18    icdg07plq_flt.fits\n",
        "2013-10-16 17:42:55    icdg08r8q_flt.fits\n",
        "2013-10-16 17:43:43    icdg08r9q_flt.fits\n",
        "2013-10-16 17:44:31    icdg08raq_flt.fits\n",
        "2013-10-16 17:56:25    icdg08rqq_flt.fits\n",
        "2013-10-16 17:57:13    icdg08rrq_flt.fits\n",
        "2013-10-16 17:58:01    icdg08rsq_flt.fits\n",
        "2013-10-16 17:58:49    icdg08rtq_flt.fits\n",
        "Name: FILENAME, dtype: object\n"
       ]
      }
     ],
     "prompt_number": 77
    },
    {
     "cell_type": "code",
     "collapsed": false,
     "input": [
      "print DF[DF['FILTER'] == 'F125W']['2013-10-16 17:42:50':'2013-10-16 17:58:50']['FILENAME'].values\n",
      "DF[DF['FILTER'] == 'F125W']['2013-10-16 17:42:50':'2013-10-16 17:58:50'][['FILENAME','FLUX']]"
     ],
     "language": "python",
     "metadata": {},
     "outputs": [
      {
       "output_type": "stream",
       "stream": "stdout",
       "text": [
        "['icdg08r8q_flt.fits' 'icdg08r9q_flt.fits' 'icdg08raq_flt.fits'\n",
        " 'icdg08rbq_flt.fits' 'icdg08rhq_flt.fits' 'icdg08riq_flt.fits'\n",
        " 'icdg08rjq_flt.fits' 'icdg08rkq_flt.fits' 'icdg08rqq_flt.fits'\n",
        " 'icdg08rrq_flt.fits' 'icdg08rsq_flt.fits' 'icdg08rtq_flt.fits']\n"
       ]
      },
      {
       "html": [
        "<div style=\"max-height:1000px;max-width:1500px;overflow:auto;\">\n",
        "<table border=\"1\" class=\"dataframe\">\n",
        "  <thead>\n",
        "    <tr style=\"text-align: right;\">\n",
        "      <th></th>\n",
        "      <th>FILENAME</th>\n",
        "      <th>FLUX</th>\n",
        "    </tr>\n",
        "    <tr>\n",
        "      <th>datetime</th>\n",
        "      <th></th>\n",
        "      <th></th>\n",
        "    </tr>\n",
        "  </thead>\n",
        "  <tbody>\n",
        "    <tr>\n",
        "      <th>2013-10-16 17:42:55</th>\n",
        "      <td> icdg08r8q_flt.fits</td>\n",
        "      <td> 8040.938477</td>\n",
        "    </tr>\n",
        "    <tr>\n",
        "      <th>2013-10-16 17:43:43</th>\n",
        "      <td> icdg08r9q_flt.fits</td>\n",
        "      <td> 8016.908691</td>\n",
        "    </tr>\n",
        "    <tr>\n",
        "      <th>2013-10-16 17:44:31</th>\n",
        "      <td> icdg08raq_flt.fits</td>\n",
        "      <td> 8048.387695</td>\n",
        "    </tr>\n",
        "    <tr>\n",
        "      <th>2013-10-16 17:45:19</th>\n",
        "      <td> icdg08rbq_flt.fits</td>\n",
        "      <td> 8079.529785</td>\n",
        "    </tr>\n",
        "    <tr>\n",
        "      <th>2013-10-16 17:49:40</th>\n",
        "      <td> icdg08rhq_flt.fits</td>\n",
        "      <td> 8089.006836</td>\n",
        "    </tr>\n",
        "    <tr>\n",
        "      <th>2013-10-16 17:50:28</th>\n",
        "      <td> icdg08riq_flt.fits</td>\n",
        "      <td> 8114.901367</td>\n",
        "    </tr>\n",
        "    <tr>\n",
        "      <th>2013-10-16 17:51:16</th>\n",
        "      <td> icdg08rjq_flt.fits</td>\n",
        "      <td> 8115.037109</td>\n",
        "    </tr>\n",
        "    <tr>\n",
        "      <th>2013-10-16 17:52:04</th>\n",
        "      <td> icdg08rkq_flt.fits</td>\n",
        "      <td> 8157.858887</td>\n",
        "    </tr>\n",
        "    <tr>\n",
        "      <th>2013-10-16 17:56:25</th>\n",
        "      <td> icdg08rqq_flt.fits</td>\n",
        "      <td> 8045.285156</td>\n",
        "    </tr>\n",
        "    <tr>\n",
        "      <th>2013-10-16 17:57:13</th>\n",
        "      <td> icdg08rrq_flt.fits</td>\n",
        "      <td> 7999.373047</td>\n",
        "    </tr>\n",
        "    <tr>\n",
        "      <th>2013-10-16 17:58:01</th>\n",
        "      <td> icdg08rsq_flt.fits</td>\n",
        "      <td> 8008.456055</td>\n",
        "    </tr>\n",
        "    <tr>\n",
        "      <th>2013-10-16 17:58:49</th>\n",
        "      <td> icdg08rtq_flt.fits</td>\n",
        "      <td> 8015.915527</td>\n",
        "    </tr>\n",
        "  </tbody>\n",
        "</table>\n",
        "</div>"
       ],
       "metadata": {},
       "output_type": "pyout",
       "prompt_number": 83,
       "text": [
        "                               FILENAME         FLUX\n",
        "datetime                                            \n",
        "2013-10-16 17:42:55  icdg08r8q_flt.fits  8040.938477\n",
        "2013-10-16 17:43:43  icdg08r9q_flt.fits  8016.908691\n",
        "2013-10-16 17:44:31  icdg08raq_flt.fits  8048.387695\n",
        "2013-10-16 17:45:19  icdg08rbq_flt.fits  8079.529785\n",
        "2013-10-16 17:49:40  icdg08rhq_flt.fits  8089.006836\n",
        "2013-10-16 17:50:28  icdg08riq_flt.fits  8114.901367\n",
        "2013-10-16 17:51:16  icdg08rjq_flt.fits  8115.037109\n",
        "2013-10-16 17:52:04  icdg08rkq_flt.fits  8157.858887\n",
        "2013-10-16 17:56:25  icdg08rqq_flt.fits  8045.285156\n",
        "2013-10-16 17:57:13  icdg08rrq_flt.fits  7999.373047\n",
        "2013-10-16 17:58:01  icdg08rsq_flt.fits  8008.456055\n",
        "2013-10-16 17:58:49  icdg08rtq_flt.fits  8015.915527"
       ]
      }
     ],
     "prompt_number": 83
    },
    {
     "cell_type": "code",
     "collapsed": false,
     "input": [
      "%run -i pyDS9_blink.py icdg10vcq_flt.fits icdg10vbq_flt.fits\n"
     ],
     "language": "python",
     "metadata": {},
     "outputs": [
      {
       "output_type": "stream",
       "stream": "stdout",
       "text": [
        "icdg10vcq_flt.fits\n",
        "icdg10vbq_flt.fits"
       ]
      },
      {
       "output_type": "stream",
       "stream": "stdout",
       "text": [
        "\n"
       ]
      }
     ],
     "prompt_number": 97
    },
    {
     "cell_type": "code",
     "collapsed": false,
     "input": [
      "DF125 = DF[DF['FILTER'] == 'F125W']\n",
      "DF160 = DF[DF['FILTER'] == 'F160W']\n",
      "fig, ax = plt.subplots()\n",
      "ax.plot((DF125['XCENTER'] - np.around(DF125['XCENTER']))**2 + \n",
      "        (DF125['YCENTER'] - np.around(DF125['YCENTER']))**2, DF125['FLUX'], marker = 'x', lw = 0)"
     ],
     "language": "python",
     "metadata": {},
     "outputs": [
      {
       "metadata": {},
       "output_type": "pyout",
       "prompt_number": 93,
       "text": [
        "[<matplotlib.lines.Line2D at 0x7fe06565a0d0>]"
       ]
      }
     ],
     "prompt_number": 93
    },
    {
     "cell_type": "code",
     "collapsed": false,
     "input": [
      "DF125.to_csv('Jan_07_F125W_result.csv', index = False)\n",
      "DF160.to_csv('Jan_07_F160W_result.csv', index = False)"
     ],
     "language": "python",
     "metadata": {},
     "outputs": [],
     "prompt_number": 94
    },
    {
     "cell_type": "code",
     "collapsed": false,
     "input": [],
     "language": "python",
     "metadata": {},
     "outputs": []
    }
   ],
   "metadata": {}
  }
 ]
}